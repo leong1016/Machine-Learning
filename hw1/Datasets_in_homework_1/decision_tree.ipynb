{
 "cells": [
  {
   "cell_type": "code",
   "execution_count": 1,
   "metadata": {
    "collapsed": true
   },
   "outputs": [],
   "source": [
    "import pandas as pd\n",
    "import numpy as np"
   ]
  },
  {
   "cell_type": "code",
   "execution_count": 2,
   "metadata": {},
   "outputs": [],
   "source": [
    "train = pd.read_csv('train.csv', header=None)\n",
    "test = pd.read_csv('test.csv', header=None)"
   ]
  },
  {
   "cell_type": "code",
   "execution_count": 3,
   "metadata": {},
   "outputs": [],
   "source": [
    "data = train.iloc[:, :-1]\n",
    "label = train.iloc[:, -1]"
   ]
  },
  {
   "cell_type": "code",
   "execution_count": 4,
   "metadata": {},
   "outputs": [],
   "source": [
    "values = {}\n",
    "for col in data:\n",
    "    values[col] = data[col].unique()"
   ]
  },
  {
   "cell_type": "code",
   "execution_count": 5,
   "metadata": {
    "collapsed": true
   },
   "outputs": [],
   "source": [
    "class TestNode:\n",
    "    \n",
    "    def __init__(self, col, depth):\n",
    "        self.type = 'test'\n",
    "        self.col = col\n",
    "        self.depth = depth\n",
    "        self.branch = []\n",
    "    \n",
    "    def add_branch(self, branch):\n",
    "        self.branch.append(branch)"
   ]
  },
  {
   "cell_type": "code",
   "execution_count": 6,
   "metadata": {},
   "outputs": [],
   "source": [
    "class Branch:\n",
    "    \n",
    "    def __init__(self, value, parent, child):\n",
    "        self.value = value\n",
    "        self.parent = parent\n",
    "        self.child = child"
   ]
  },
  {
   "cell_type": "code",
   "execution_count": 7,
   "metadata": {
    "collapsed": true
   },
   "outputs": [],
   "source": [
    "class LeafNode:\n",
    "    \n",
    "    def __init__(self, value, depth):\n",
    "        self.type = 'leaf'\n",
    "        self.value = value\n",
    "        self.depth = depth"
   ]
  },
  {
   "cell_type": "code",
   "execution_count": 8,
   "metadata": {},
   "outputs": [],
   "source": [
    "def entropy(label):\n",
    "    if (len(label.unique()) == 1):\n",
    "        return 0\n",
    "    total = len(label)\n",
    "    count = label.value_counts().values\n",
    "    pi = count/total\n",
    "    logpi = np.log2(pi)\n",
    "    h = -np.dot(pi, logpi)\n",
    "    return h"
   ]
  },
  {
   "cell_type": "code",
   "execution_count": 9,
   "metadata": {
    "collapsed": true
   },
   "outputs": [],
   "source": [
    "def majority_error(label):\n",
    "    total = len(label)\n",
    "    majority = label.value_counts().max()\n",
    "    me = (total - majority) / total\n",
    "    return me"
   ]
  },
  {
   "cell_type": "code",
   "execution_count": 26,
   "metadata": {
    "collapsed": true
   },
   "outputs": [],
   "source": [
    "def information_gain(data, label, way):\n",
    "    \n",
    "    total = len(label)\n",
    "    if way == 'entropy':\n",
    "        h_prev = entropy(label)\n",
    "    else:\n",
    "        h_prev = majority_error(label)\n",
    "\n",
    "    attr = data.name\n",
    "    concated = pd.concat([data, label], axis=1)\n",
    "    grouped = concated.groupby(attr)\n",
    "\n",
    "    h_next = 0\n",
    "    for name, group in grouped:\n",
    "        count = len(group)\n",
    "        p = count/total\n",
    "        if way == 'entropy':\n",
    "            h = entropy(group.iloc[:,-1])\n",
    "        else:\n",
    "            h = majority_error(group.iloc[:,-1])\n",
    "        h_next += p * h\n",
    "\n",
    "    ig = h_prev - h_next\n",
    "    return ig"
   ]
  },
  {
   "cell_type": "code",
   "execution_count": 27,
   "metadata": {
    "collapsed": true
   },
   "outputs": [],
   "source": [
    "def find_purest(data, label, way):\n",
    "\n",
    "    best_ig = -1\n",
    "    for col in data:\n",
    "        ig = information_gain(data[col], label, way)\n",
    "        if (ig > best_ig):\n",
    "            best_ig = ig\n",
    "            best_col = col\n",
    "    return best_col"
   ]
  },
  {
   "cell_type": "code",
   "execution_count": 28,
   "metadata": {
    "collapsed": true
   },
   "outputs": [],
   "source": [
    "def most_common(label):\n",
    "    return label.value_counts().idxmax()"
   ]
  },
  {
   "cell_type": "code",
   "execution_count": 29,
   "metadata": {},
   "outputs": [],
   "source": [
    "def ID3(data, values, label, max_depth, depth=0, way='entropy'):\n",
    "    \n",
    "    #create leaf node if pure\n",
    "    if entropy(label) == 0:\n",
    "        return LeafNode(most_common(label), depth)\n",
    "    \n",
    "    #create leaf node if reach max_depth\n",
    "    if depth == max_depth:\n",
    "        return LeafNode(most_common(label), depth)\n",
    "    \n",
    "    #create leaf node if no atrributes to split\n",
    "    if find_purest(data, label, way) == -1:\n",
    "        return LeafNode(most_common(label), depth)\n",
    "    \n",
    "    best_col = find_purest(data, label, way)\n",
    "    root = TestNode(best_col, depth)\n",
    "    \n",
    "    concated = pd.concat([data, label], axis=1)\n",
    "    grouped = concated.groupby(best_col)\n",
    "    \n",
    "    for value in values[best_col]:\n",
    "\n",
    "        if value in grouped.groups.keys():\n",
    "            group = grouped.get_group(value)\n",
    "            newgroup = group.drop(best_col, axis=1)\n",
    "            newdata = newgroup.iloc[:,:-1]\n",
    "            newlabel = newgroup.iloc[:,-1]\n",
    "            temp = ID3(newdata, values, newlabel, max_depth, depth+1, way)\n",
    "        else:\n",
    "            temp = LeafNode(most_common(label), depth+1)\n",
    "            \n",
    "        branch = Branch(value, root, temp)\n",
    "        root.add_branch(branch)\n",
    "    \n",
    "    return root"
   ]
  },
  {
   "cell_type": "code",
   "execution_count": 30,
   "metadata": {
    "collapsed": true
   },
   "outputs": [],
   "source": [
    "def print_id3(tree):\n",
    "    if (tree.type == 'test'):\n",
    "        print('TEST: {}'.format(tree.col))\n",
    "    elif (tree.type == 'leaf'):\n",
    "        print('LEAF: {}'.format(tree.value))\n",
    "        print('************')\n",
    "        return;\n",
    "    for i in tree.branch:\n",
    "        print('VALUE: {}'.format(i.value))\n",
    "        print_id3(i.child)"
   ]
  },
  {
   "cell_type": "code",
   "execution_count": 31,
   "metadata": {
    "collapsed": true
   },
   "outputs": [],
   "source": [
    "def single_predict(root, row):\n",
    "    while root.type != 'leaf':\n",
    "        test = root.col\n",
    "        value = row[test]\n",
    "        branches = root.branch\n",
    "        for branch in branches:\n",
    "            if branch.value == value:\n",
    "                root = branch.child\n",
    "    return root.value"
   ]
  },
  {
   "cell_type": "code",
   "execution_count": 32,
   "metadata": {},
   "outputs": [],
   "source": [
    "def batch_predict(tree, test):\n",
    "    predictions = []\n",
    "    for index, row in test.iterrows():\n",
    "        predictions.append(single_predict(tree, row))\n",
    "    result = test\n",
    "    result['pred'] = predictions\n",
    "    return result"
   ]
  },
  {
   "cell_type": "code",
   "execution_count": 36,
   "metadata": {
    "collapsed": true
   },
   "outputs": [],
   "source": [
    "def table_generator(way):\n",
    "    print(way)\n",
    "    for i in range(1, 8):\n",
    "        if way == 'entropy':\n",
    "            tree = ID3(data, values, label, i, way='entropy')\n",
    "        else:\n",
    "            tree = ID3(data, values, label, i, way='majority error')\n",
    "        result1 = batch_predict(tree, train)\n",
    "        compare1 = result1.iloc[:,-2] == result1.iloc[:,-1]\n",
    "        accuracy1 = (len(compare1) - compare1.sum()) / len(compare1)\n",
    "        result2 = batch_predict(tree, test)\n",
    "        compare2 = result2.iloc[:,-2] == result2.iloc[:,-1]\n",
    "        accuracy2 = (len(compare2) - compare2.sum()) / len(compare2)\n",
    "        print('{0:d} & {1:.4f} & {2:.4f} \\\\\\\\'.format(i, accuracy1, accuracy2))"
   ]
  },
  {
   "cell_type": "code",
   "execution_count": 37,
   "metadata": {},
   "outputs": [
    {
     "name": "stdout",
     "output_type": "stream",
     "text": [
      "entropy\n",
      "1 & 0.3020 & 0.2967 \\\\\n",
      "2 & 0.2220 & 0.2225 \\\\\n",
      "3 & 0.1810 & 0.1964 \\\\\n",
      "4 & 0.0820 & 0.1511 \\\\\n",
      "5 & 0.0270 & 0.0920 \\\\\n",
      "6 & 0.0000 & 0.0920 \\\\\n",
      "7 & 0.0000 & 0.0920 \\\\\n"
     ]
    }
   ],
   "source": [
    "table_generator('entropy')"
   ]
  },
  {
   "cell_type": "code",
   "execution_count": 38,
   "metadata": {},
   "outputs": [
    {
     "name": "stdout",
     "output_type": "stream",
     "text": [
      "majority_error\n",
      "1 & 0.3020 & 0.2967 \\\\\n",
      "2 & 0.2920 & 0.3132 \\\\\n",
      "3 & 0.1800 & 0.1923 \\\\\n",
      "4 & 0.0860 & 0.1538 \\\\\n",
      "5 & 0.0290 & 0.0962 \\\\\n",
      "6 & 0.0000 & 0.0962 \\\\\n",
      "7 & 0.0000 & 0.0962 \\\\\n"
     ]
    }
   ],
   "source": [
    "table_generator('majority_error')"
   ]
  },
  {
   "cell_type": "code",
   "execution_count": null,
   "metadata": {
    "collapsed": true
   },
   "outputs": [],
   "source": []
  }
 ],
 "metadata": {
  "kernelspec": {
   "display_name": "Python 3",
   "language": "python",
   "name": "python3"
  },
  "language_info": {
   "codemirror_mode": {
    "name": "ipython",
    "version": 3
   },
   "file_extension": ".py",
   "mimetype": "text/x-python",
   "name": "python",
   "nbconvert_exporter": "python",
   "pygments_lexer": "ipython3",
   "version": "3.6.3"
  }
 },
 "nbformat": 4,
 "nbformat_minor": 2
}
