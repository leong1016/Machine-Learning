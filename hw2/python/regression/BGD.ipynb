{
 "cells": [
  {
   "cell_type": "code",
   "execution_count": 1,
   "metadata": {
    "collapsed": true
   },
   "outputs": [],
   "source": [
    "import numpy as np\n",
    "import pandas as pd\n",
    "from matplotlib import pyplot as plt"
   ]
  },
  {
   "cell_type": "code",
   "execution_count": 2,
   "metadata": {},
   "outputs": [
    {
     "data": {
      "text/html": [
       "<div>\n",
       "<style>\n",
       "    .dataframe thead tr:only-child th {\n",
       "        text-align: right;\n",
       "    }\n",
       "\n",
       "    .dataframe thead th {\n",
       "        text-align: left;\n",
       "    }\n",
       "\n",
       "    .dataframe tbody tr th {\n",
       "        vertical-align: top;\n",
       "    }\n",
       "</style>\n",
       "<table border=\"1\" class=\"dataframe\">\n",
       "  <thead>\n",
       "    <tr style=\"text-align: right;\">\n",
       "      <th></th>\n",
       "      <th>0</th>\n",
       "      <th>1</th>\n",
       "      <th>2</th>\n",
       "      <th>3</th>\n",
       "      <th>4</th>\n",
       "      <th>5</th>\n",
       "      <th>6</th>\n",
       "      <th>7</th>\n",
       "    </tr>\n",
       "  </thead>\n",
       "  <tbody>\n",
       "    <tr>\n",
       "      <th>0</th>\n",
       "      <td>-0.890447</td>\n",
       "      <td>-1.295950</td>\n",
       "      <td>1.188030</td>\n",
       "      <td>-1.450430</td>\n",
       "      <td>1.238500</td>\n",
       "      <td>1.876070</td>\n",
       "      <td>-0.818684</td>\n",
       "      <td>-0.005574</td>\n",
       "    </tr>\n",
       "    <tr>\n",
       "      <th>1</th>\n",
       "      <td>0.549165</td>\n",
       "      <td>0.066917</td>\n",
       "      <td>-0.517804</td>\n",
       "      <td>0.638098</td>\n",
       "      <td>0.164716</td>\n",
       "      <td>0.227616</td>\n",
       "      <td>-0.945600</td>\n",
       "      <td>0.568593</td>\n",
       "    </tr>\n",
       "    <tr>\n",
       "      <th>2</th>\n",
       "      <td>0.941555</td>\n",
       "      <td>-1.292630</td>\n",
       "      <td>1.068030</td>\n",
       "      <td>1.950890</td>\n",
       "      <td>-0.085833</td>\n",
       "      <td>-1.180960</td>\n",
       "      <td>-0.385584</td>\n",
       "      <td>0.798260</td>\n",
       "    </tr>\n",
       "    <tr>\n",
       "      <th>3</th>\n",
       "      <td>-0.966886</td>\n",
       "      <td>1.047520</td>\n",
       "      <td>0.376289</td>\n",
       "      <td>1.831540</td>\n",
       "      <td>0.880569</td>\n",
       "      <td>-0.988829</td>\n",
       "      <td>-0.898007</td>\n",
       "      <td>0.568593</td>\n",
       "    </tr>\n",
       "    <tr>\n",
       "      <th>4</th>\n",
       "      <td>0.638344</td>\n",
       "      <td>0.233121</td>\n",
       "      <td>-0.364867</td>\n",
       "      <td>0.488917</td>\n",
       "      <td>0.164716</td>\n",
       "      <td>-0.011126</td>\n",
       "      <td>-0.961465</td>\n",
       "      <td>0.855677</td>\n",
       "    </tr>\n",
       "  </tbody>\n",
       "</table>\n",
       "</div>"
      ],
      "text/plain": [
       "          0         1         2         3         4         5         6  \\\n",
       "0 -0.890447 -1.295950  1.188030 -1.450430  1.238500  1.876070 -0.818684   \n",
       "1  0.549165  0.066917 -0.517804  0.638098  0.164716  0.227616 -0.945600   \n",
       "2  0.941555 -1.292630  1.068030  1.950890 -0.085833 -1.180960 -0.385584   \n",
       "3 -0.966886  1.047520  0.376289  1.831540  0.880569 -0.988829 -0.898007   \n",
       "4  0.638344  0.233121 -0.364867  0.488917  0.164716 -0.011126 -0.961465   \n",
       "\n",
       "          7  \n",
       "0 -0.005574  \n",
       "1  0.568593  \n",
       "2  0.798260  \n",
       "3  0.568593  \n",
       "4  0.855677  "
      ]
     },
     "execution_count": 2,
     "metadata": {},
     "output_type": "execute_result"
    }
   ],
   "source": [
    "traindf = pd.read_csv('train.csv', header=None)\n",
    "traindf.head()"
   ]
  },
  {
   "cell_type": "code",
   "execution_count": 3,
   "metadata": {
    "collapsed": true
   },
   "outputs": [],
   "source": [
    "xdf = traindf.iloc[:,0:7]\n",
    "xdf[7] = 1\n",
    "x = xdf.as_matrix()"
   ]
  },
  {
   "cell_type": "code",
   "execution_count": 4,
   "metadata": {
    "collapsed": true
   },
   "outputs": [],
   "source": [
    "ydf = traindf.iloc[:,7]\n",
    "y = ydf.as_matrix()"
   ]
  },
  {
   "cell_type": "code",
   "execution_count": 5,
   "metadata": {
    "collapsed": true
   },
   "outputs": [],
   "source": [
    "def gradient(x, y, w):\n",
    "    grad = []\n",
    "    for j in range(len(w)):\n",
    "        s = 0\n",
    "        for i in range(x.shape[0]):\n",
    "            s += (y[i]-w.dot(x[i]))*x[i][j]\n",
    "        grad.append(-s)\n",
    "    return np.array(grad)"
   ]
  },
  {
   "cell_type": "code",
   "execution_count": 6,
   "metadata": {
    "collapsed": true
   },
   "outputs": [],
   "source": [
    "def costFunction(x, y, w):\n",
    "    j = 0 \n",
    "    for i in range(x.shape[0]):\n",
    "        j += (y[i]-w.dot(x[i]))**2\n",
    "    return j / 2"
   ]
  },
  {
   "cell_type": "code",
   "execution_count": 7,
   "metadata": {
    "collapsed": true
   },
   "outputs": [],
   "source": [
    "def batchGradientDescent(x, y, r=0.1):\n",
    "    w = np.zeros(x.shape[1])\n",
    "    j = costFunction(x, y, w)\n",
    "    js = []\n",
    "    js.append(j)\n",
    "    converge = False\n",
    "    t = 0\n",
    "    while t < 10000:\n",
    "        w2 = w - r * gradient(x, y, w)\n",
    "        j2 = costFunction(x, y, w2)\n",
    "        if j2 > j:\n",
    "            return False, w, j, js\n",
    "        js.append(j2)\n",
    "        if np.linalg.norm(w2-w) < 1e-6:\n",
    "            return True, w2, j2, js\n",
    "        w = w2\n",
    "        j = j2\n",
    "        t += 1\n",
    "    return False, w, j, js"
   ]
  },
  {
   "cell_type": "code",
   "execution_count": 8,
   "metadata": {
    "collapsed": true
   },
   "outputs": [],
   "source": [
    "r = [1, 0.6, 0.3, 0.1, 0.06, 0.03, 0.01, 0.006, 0.003, 0.001]"
   ]
  },
  {
   "cell_type": "code",
   "execution_count": 9,
   "metadata": {},
   "outputs": [
    {
     "name": "stdout",
     "output_type": "stream",
     "text": [
      "learning rate: 0.01\n",
      "weight: [ 0.90022499  0.78594341  0.85066508  1.29862298  0.12983393  1.5717928\n",
      "  0.99834709 -0.01520362]\n",
      "cost on training data: 14.981943701311598\n"
     ]
    }
   ],
   "source": [
    "for gamma in r:\n",
    "    isConverged, weight, cost, costs = batchGradientDescent(x, y, gamma)\n",
    "    if isConverged:\n",
    "        print('learning rate: {}'.format(gamma))\n",
    "        print('weight: {}'.format(weight))\n",
    "        print('cost on training data: {}'.format(cost))\n",
    "        break"
   ]
  },
  {
   "cell_type": "code",
   "execution_count": 10,
   "metadata": {},
   "outputs": [
    {
     "data": {
      "text/plain": [
       "array([ 0.90056451,  0.78629331,  0.85104314,  1.29889413,  0.12989067,\n",
       "        1.57224887,  0.99869359, -0.01519667])"
      ]
     },
     "execution_count": 10,
     "metadata": {},
     "output_type": "execute_result"
    }
   ],
   "source": [
    "np.linalg.inv(x.transpose().dot(x)).dot(x.transpose()).dot(y)"
   ]
  },
  {
   "cell_type": "code",
   "execution_count": 11,
   "metadata": {},
   "outputs": [
    {
     "data": {
      "text/html": [
       "<div>\n",
       "<style>\n",
       "    .dataframe thead tr:only-child th {\n",
       "        text-align: right;\n",
       "    }\n",
       "\n",
       "    .dataframe thead th {\n",
       "        text-align: left;\n",
       "    }\n",
       "\n",
       "    .dataframe tbody tr th {\n",
       "        vertical-align: top;\n",
       "    }\n",
       "</style>\n",
       "<table border=\"1\" class=\"dataframe\">\n",
       "  <thead>\n",
       "    <tr style=\"text-align: right;\">\n",
       "      <th></th>\n",
       "      <th>0</th>\n",
       "      <th>1</th>\n",
       "      <th>2</th>\n",
       "      <th>3</th>\n",
       "      <th>4</th>\n",
       "      <th>5</th>\n",
       "      <th>6</th>\n",
       "      <th>7</th>\n",
       "    </tr>\n",
       "  </thead>\n",
       "  <tbody>\n",
       "    <tr>\n",
       "      <th>0</th>\n",
       "      <td>1.581100</td>\n",
       "      <td>-1.295950</td>\n",
       "      <td>-1.753060</td>\n",
       "      <td>1.831540</td>\n",
       "      <td>-0.909064</td>\n",
       "      <td>0.852891</td>\n",
       "      <td>-0.771091</td>\n",
       "      <td>-0.120408</td>\n",
       "    </tr>\n",
       "    <tr>\n",
       "      <th>1</th>\n",
       "      <td>0.561905</td>\n",
       "      <td>0.183260</td>\n",
       "      <td>-0.400160</td>\n",
       "      <td>0.240283</td>\n",
       "      <td>0.164716</td>\n",
       "      <td>-1.420840</td>\n",
       "      <td>1.386480</td>\n",
       "      <td>0.970510</td>\n",
       "    </tr>\n",
       "    <tr>\n",
       "      <th>2</th>\n",
       "      <td>-1.145250</td>\n",
       "      <td>0.831454</td>\n",
       "      <td>0.176294</td>\n",
       "      <td>-0.704529</td>\n",
       "      <td>1.238500</td>\n",
       "      <td>-0.147550</td>\n",
       "      <td>0.561526</td>\n",
       "      <td>0.654718</td>\n",
       "    </tr>\n",
       "    <tr>\n",
       "      <th>3</th>\n",
       "      <td>-1.056070</td>\n",
       "      <td>0.183260</td>\n",
       "      <td>-0.400160</td>\n",
       "      <td>0.240283</td>\n",
       "      <td>0.164716</td>\n",
       "      <td>-0.272605</td>\n",
       "      <td>1.418210</td>\n",
       "      <td>0.568593</td>\n",
       "    </tr>\n",
       "    <tr>\n",
       "      <th>4</th>\n",
       "      <td>1.147940</td>\n",
       "      <td>-1.295950</td>\n",
       "      <td>0.164530</td>\n",
       "      <td>-0.455895</td>\n",
       "      <td>0.164716</td>\n",
       "      <td>-0.204393</td>\n",
       "      <td>0.577390</td>\n",
       "      <td>0.626010</td>\n",
       "    </tr>\n",
       "  </tbody>\n",
       "</table>\n",
       "</div>"
      ],
      "text/plain": [
       "          0         1         2         3         4         5         6  \\\n",
       "0  1.581100 -1.295950 -1.753060  1.831540 -0.909064  0.852891 -0.771091   \n",
       "1  0.561905  0.183260 -0.400160  0.240283  0.164716 -1.420840  1.386480   \n",
       "2 -1.145250  0.831454  0.176294 -0.704529  1.238500 -0.147550  0.561526   \n",
       "3 -1.056070  0.183260 -0.400160  0.240283  0.164716 -0.272605  1.418210   \n",
       "4  1.147940 -1.295950  0.164530 -0.455895  0.164716 -0.204393  0.577390   \n",
       "\n",
       "          7  \n",
       "0 -0.120408  \n",
       "1  0.970510  \n",
       "2  0.654718  \n",
       "3  0.568593  \n",
       "4  0.626010  "
      ]
     },
     "execution_count": 11,
     "metadata": {},
     "output_type": "execute_result"
    }
   ],
   "source": [
    "testdf = pd.read_csv('test.csv', header=None)\n",
    "testdf.head()"
   ]
  },
  {
   "cell_type": "code",
   "execution_count": 12,
   "metadata": {
    "collapsed": true
   },
   "outputs": [],
   "source": [
    "xdf2 = testdf.iloc[:,0:7]\n",
    "xdf2[7] = 1\n",
    "x2 = xdf2.as_matrix()"
   ]
  },
  {
   "cell_type": "code",
   "execution_count": 13,
   "metadata": {
    "collapsed": true
   },
   "outputs": [],
   "source": [
    "ydf2 = testdf.iloc[:,7]\n",
    "y2 = ydf2.as_matrix()"
   ]
  },
  {
   "cell_type": "code",
   "execution_count": 14,
   "metadata": {},
   "outputs": [
    {
     "name": "stdout",
     "output_type": "stream",
     "text": [
      "cost on testing data: 23.361305269196592\n"
     ]
    }
   ],
   "source": [
    "print('cost on testing data: {}'.format(costFunction(x2,y2,weight)))"
   ]
  },
  {
   "cell_type": "code",
   "execution_count": 15,
   "metadata": {},
   "outputs": [
    {
     "data": {
      "image/png": "[encoded data removed]",
      "text/plain": [
       "<matplotlib.figure.Figure at 0x108e85828>"
      ]
     },
     "metadata": {},
     "output_type": "display_data"
    }
   ],
   "source": [
    "plt.figure(figsize=(15,5))\n",
    "plt.plot(costs)\n",
    "# plt.xlim([0,10])\n",
    "plt.xlabel('step')\n",
    "plt.ylabel('cost')\n",
    "plt.show()"
   ]
  }
 ],
 "metadata": {
  "kernelspec": {
   "display_name": "Python 3",
   "language": "python",
   "name": "python3"
  },
  "language_info": {
   "codemirror_mode": {
    "name": "ipython",
    "version": 3
   },
   "file_extension": ".py",
   "mimetype": "text/x-python",
   "name": "python",
   "nbconvert_exporter": "python",
   "pygments_lexer": "ipython3",
   "version": "3.6.3"
  }
 },
 "nbformat": 4,
 "nbformat_minor": 2
}
